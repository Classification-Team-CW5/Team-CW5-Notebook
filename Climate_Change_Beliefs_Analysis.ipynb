{
  "cells": [
    {
      "cell_type": "markdown",
      "metadata": {
        "id": "view-in-github",
        "colab_type": "text"
      },
      "source": [
        "<a href=\"https://colab.research.google.com/github/Classification-Team-CW5/Team-CW5-Notebook/blob/main/Climate_Change_Beliefs_Analysis.ipynb\" target=\"_parent\"><img src=\"https://colab.research.google.com/assets/colab-badge.svg\" alt=\"Open In Colab\"/></a>"
      ]
    },
    {
      "cell_type": "markdown",
      "id": "507da203",
      "metadata": {
        "id": "507da203"
      },
      "source": [
        "# Project Predict: Climate Change Classification\n",
        "© Explore Data Science Academy"
      ]
    },
    {
      "cell_type": "markdown",
      "id": "b6c8afa0",
      "metadata": {
        "id": "b6c8afa0"
      },
      "source": [
        "### Honour Code\n",
        "**TEAM CW5**, confirm - by submitting this document - that the solutions in this notebook are a result of our work and that we abide by the [EDSA honour code](https://drive.google.com/file/d/1QDCjGZJ8-FmJE3bZdIQNwnJyQKPhHZBn/view?usp=sharing)."
      ]
    },
    {
      "cell_type": "markdown",
      "id": "a932ecdd",
      "metadata": {
        "id": "a932ecdd"
      },
      "source": [
        "### Predict Description\n",
        "Many companies are built around lessening one’s environmental impact or carbon footprint. They offer products and services that are environmentally friendly and sustainable, in line with their values and ideals. They would like to determine how people perceive climate change and whether or not they believe it is a real threat. This would add to their market research efforts in gauging how their product/service may be received.\n",
        "\n",
        "With this context, EDSA is challenging you during the Classification Sprint with the task of creating a Machine Learning model that is able to classify whether or not a person believes in climate change, based on their novel tweet data.\n",
        "\n",
        "Providing an accurate and robust solution to this task gives companies access to a broad base of consumer sentiment, spanning multiple demographic and geographic categories - thus increasing their insights and informing future marketing strategies."
      ]
    },
    {
      "cell_type": "markdown",
      "id": "e71e635d",
      "metadata": {
        "id": "e71e635d"
      },
      "source": [
        "<img src=\"https://github.com/Classification-Team-CW5/Classification-Data/blob/main/climate.jpg?raw=true\" width=90%/> "
      ]
    },
    {
      "cell_type": "markdown",
      "id": "9cf7fdd5",
      "metadata": {
        "id": "9cf7fdd5"
      },
      "source": [
        "<a id=\"cont\"></a>\n",
        "## Table of Contents\n",
        "<a href=#one>1. Importing Packages</a>\n",
        "\n",
        "<a href=#two>2. Loading Data</a>\n",
        "\n",
        "<a href=#three>3. Exploratory Data Analysis (EDA)</a>\n",
        "\n",
        "<a href=#four>4. Data Engineering</a>\n",
        "\n",
        "<a href=#five>5. Modeling</a>\n",
        "\n",
        "<a href=#six>6. Model Performance</a>\n",
        "\n",
        "<a href=#seven>7. Model Explanations</a>\n",
        "\n",
        "<a href=#eight>8. References</a>\n"
      ]
    },
    {
      "cell_type": "markdown",
      "id": "8d8bffd0",
      "metadata": {
        "id": "8d8bffd0"
      },
      "source": [
        " <a id=\"one\"></a>\n",
        "## 1. Importing Packages\n",
        "<a href=#cont>Back to Table of Contents</a>"
      ]
    },
    {
      "cell_type": "markdown",
      "id": "3e77222e",
      "metadata": {
        "id": "3e77222e"
      },
      "source": [
        "We going to import all the python libraries that we will use in the notebook"
      ]
    },
    {
      "cell_type": "code",
      "execution_count": 1,
      "id": "39f71a6f",
      "metadata": {
        "id": "39f71a6f"
      },
      "outputs": [],
      "source": [
        "# Libraries for data loading, data manipulation and data visulisation\n",
        "import numpy as np\n",
        "import pandas as pd\n",
        "import matplotlib.pyplot as plt\n",
        "import seaborn as sns\n",
        "%matplotlib inline\n",
        "\n",
        "# Libraries for data preparation\n",
        "from nltk.stem import WordNetLemmatizer\n",
        "import re\n",
        "import nltk\n",
        "from nltk.corpus import stopwords\n",
        "import string\n",
        "from nltk import SnowballStemmer, PorterStemmer, LancasterStemmer\n",
        "from tensorflow.keras.preprocessing.text import Tokenizer\n",
        "from tensorflow.keras.preprocessing.sequence import pad_sequences\n",
        "from sklearn.feature_extraction.text import CountVectorizer\n",
        "from sklearn.feature_extraction.text import TfidfVectorizer\n",
        "from sklearn.utils import resample\n",
        "\n",
        "# Libraries for model building\n",
        "from sklearn.model_selection import train_test_split\n",
        "import tensorflow as tf\n",
        "import scipy.sparse\n",
        "from sklearn.model_selection import GridSearchCV\n",
        "from sklearn.ensemble import RandomForestClassifier\n",
        "import xgboost as xgb\n",
        "from sklearn.linear_model import LogisticRegression\n",
        "from sklearn.svm import SVC\n",
        "from sklearn.naive_bayes import MultinomialNB\n",
        "from sklearn.neighbors import KNeighborsClassifier\n",
        "from sklearn.tree import DecisionTreeClassifier\n",
        "from sklearn.metrics import accuracy_score\n",
        "from sklearn import metrics\n",
        "from sklearn.pipeline import Pipeline\n",
        "\n",
        "#Mute warnings\n",
        "import warnings\n",
        "warnings.simplefilter(action=\"ignore\", category=FutureWarning)"
      ]
    },
    {
      "cell_type": "markdown",
      "id": "ef80e222",
      "metadata": {
        "id": "ef80e222"
      },
      "source": [
        "<a id=\"two\"></a>\n",
        "## 2. Loading the data\n",
        "<a class=\"anchor\" id=\"1.1\"></a>\n",
        "<a href=#cont>Back to Table of Contents</a>"
      ]
    },
    {
      "cell_type": "code",
      "execution_count": 2,
      "id": "a30d2849",
      "metadata": {
        "id": "a30d2849"
      },
      "outputs": [],
      "source": [
        "# Load train and test datasets\n",
        "train = pd.read_csv(\"https://raw.githubusercontent.com/Classification-Team-CW5/Classification-Data/main/train.csv\")\n",
        "test = pd.read_csv(\"https://raw.githubusercontent.com/Classification-Team-CW5/Classification-Data/main/test_with_no_labels.csv\")"
      ]
    },
    {
      "cell_type": "markdown",
      "id": "ffcce7f6",
      "metadata": {
        "id": "ffcce7f6"
      },
      "source": [
        "<a id=\"three\"></a>\n",
        "## 3. Exploratory Data Analysis (EDA)\n",
        "<a class=\"anchor\" id=\"1.1\"></a>\n",
        "<a href=#cont>Back to Table of Contents</a>"
      ]
    },
    {
      "cell_type": "markdown",
      "id": "17d3d920",
      "metadata": {
        "id": "17d3d920"
      },
      "source": [
        "This is the first step in EDA, we need to understand the variables in the data set, like what are the input variables and what are the output variables? Then we need to understand the type of the variables in the data set, like is it Integer? A float value? Or a String value? Lastly we need to analyze if the variables are continuous or categorical. Gender is an example of categorical variable while height is an example of continuous variable"
      ]
    },
    {
      "cell_type": "code",
      "execution_count": 3,
      "id": "48cf734a",
      "metadata": {
        "id": "48cf734a",
        "outputId": "57b8a196-ed26-4fc6-e56e-81ce8f4918a2",
        "colab": {
          "base_uri": "https://localhost:8080/",
          "height": 206
        }
      },
      "outputs": [
        {
          "output_type": "execute_result",
          "data": {
            "text/plain": [
              "   sentiment                                            message  tweetid\n",
              "0          1  PolySciMajor EPA chief doesn't think carbon di...   625221\n",
              "1          1  It's not like we lack evidence of anthropogeni...   126103\n",
              "2          2  RT @RawStory: Researchers say we have three ye...   698562\n",
              "3          1  #TodayinMaker# WIRED : 2016 was a pivotal year...   573736\n",
              "4          1  RT @SoyNovioDeTodas: It's 2016, and a racist, ...   466954"
            ],
            "text/html": [
              "\n",
              "  <div id=\"df-6fe3cda5-604d-49a6-adae-14d9df33add9\">\n",
              "    <div class=\"colab-df-container\">\n",
              "      <div>\n",
              "<style scoped>\n",
              "    .dataframe tbody tr th:only-of-type {\n",
              "        vertical-align: middle;\n",
              "    }\n",
              "\n",
              "    .dataframe tbody tr th {\n",
              "        vertical-align: top;\n",
              "    }\n",
              "\n",
              "    .dataframe thead th {\n",
              "        text-align: right;\n",
              "    }\n",
              "</style>\n",
              "<table border=\"1\" class=\"dataframe\">\n",
              "  <thead>\n",
              "    <tr style=\"text-align: right;\">\n",
              "      <th></th>\n",
              "      <th>sentiment</th>\n",
              "      <th>message</th>\n",
              "      <th>tweetid</th>\n",
              "    </tr>\n",
              "  </thead>\n",
              "  <tbody>\n",
              "    <tr>\n",
              "      <th>0</th>\n",
              "      <td>1</td>\n",
              "      <td>PolySciMajor EPA chief doesn't think carbon di...</td>\n",
              "      <td>625221</td>\n",
              "    </tr>\n",
              "    <tr>\n",
              "      <th>1</th>\n",
              "      <td>1</td>\n",
              "      <td>It's not like we lack evidence of anthropogeni...</td>\n",
              "      <td>126103</td>\n",
              "    </tr>\n",
              "    <tr>\n",
              "      <th>2</th>\n",
              "      <td>2</td>\n",
              "      <td>RT @RawStory: Researchers say we have three ye...</td>\n",
              "      <td>698562</td>\n",
              "    </tr>\n",
              "    <tr>\n",
              "      <th>3</th>\n",
              "      <td>1</td>\n",
              "      <td>#TodayinMaker# WIRED : 2016 was a pivotal year...</td>\n",
              "      <td>573736</td>\n",
              "    </tr>\n",
              "    <tr>\n",
              "      <th>4</th>\n",
              "      <td>1</td>\n",
              "      <td>RT @SoyNovioDeTodas: It's 2016, and a racist, ...</td>\n",
              "      <td>466954</td>\n",
              "    </tr>\n",
              "  </tbody>\n",
              "</table>\n",
              "</div>\n",
              "      <button class=\"colab-df-convert\" onclick=\"convertToInteractive('df-6fe3cda5-604d-49a6-adae-14d9df33add9')\"\n",
              "              title=\"Convert this dataframe to an interactive table.\"\n",
              "              style=\"display:none;\">\n",
              "        \n",
              "  <svg xmlns=\"http://www.w3.org/2000/svg\" height=\"24px\"viewBox=\"0 0 24 24\"\n",
              "       width=\"24px\">\n",
              "    <path d=\"M0 0h24v24H0V0z\" fill=\"none\"/>\n",
              "    <path d=\"M18.56 5.44l.94 2.06.94-2.06 2.06-.94-2.06-.94-.94-2.06-.94 2.06-2.06.94zm-11 1L8.5 8.5l.94-2.06 2.06-.94-2.06-.94L8.5 2.5l-.94 2.06-2.06.94zm10 10l.94 2.06.94-2.06 2.06-.94-2.06-.94-.94-2.06-.94 2.06-2.06.94z\"/><path d=\"M17.41 7.96l-1.37-1.37c-.4-.4-.92-.59-1.43-.59-.52 0-1.04.2-1.43.59L10.3 9.45l-7.72 7.72c-.78.78-.78 2.05 0 2.83L4 21.41c.39.39.9.59 1.41.59.51 0 1.02-.2 1.41-.59l7.78-7.78 2.81-2.81c.8-.78.8-2.07 0-2.86zM5.41 20L4 18.59l7.72-7.72 1.47 1.35L5.41 20z\"/>\n",
              "  </svg>\n",
              "      </button>\n",
              "      \n",
              "  <style>\n",
              "    .colab-df-container {\n",
              "      display:flex;\n",
              "      flex-wrap:wrap;\n",
              "      gap: 12px;\n",
              "    }\n",
              "\n",
              "    .colab-df-convert {\n",
              "      background-color: #E8F0FE;\n",
              "      border: none;\n",
              "      border-radius: 50%;\n",
              "      cursor: pointer;\n",
              "      display: none;\n",
              "      fill: #1967D2;\n",
              "      height: 32px;\n",
              "      padding: 0 0 0 0;\n",
              "      width: 32px;\n",
              "    }\n",
              "\n",
              "    .colab-df-convert:hover {\n",
              "      background-color: #E2EBFA;\n",
              "      box-shadow: 0px 1px 2px rgba(60, 64, 67, 0.3), 0px 1px 3px 1px rgba(60, 64, 67, 0.15);\n",
              "      fill: #174EA6;\n",
              "    }\n",
              "\n",
              "    [theme=dark] .colab-df-convert {\n",
              "      background-color: #3B4455;\n",
              "      fill: #D2E3FC;\n",
              "    }\n",
              "\n",
              "    [theme=dark] .colab-df-convert:hover {\n",
              "      background-color: #434B5C;\n",
              "      box-shadow: 0px 1px 3px 1px rgba(0, 0, 0, 0.15);\n",
              "      filter: drop-shadow(0px 1px 2px rgba(0, 0, 0, 0.3));\n",
              "      fill: #FFFFFF;\n",
              "    }\n",
              "  </style>\n",
              "\n",
              "      <script>\n",
              "        const buttonEl =\n",
              "          document.querySelector('#df-6fe3cda5-604d-49a6-adae-14d9df33add9 button.colab-df-convert');\n",
              "        buttonEl.style.display =\n",
              "          google.colab.kernel.accessAllowed ? 'block' : 'none';\n",
              "\n",
              "        async function convertToInteractive(key) {\n",
              "          const element = document.querySelector('#df-6fe3cda5-604d-49a6-adae-14d9df33add9');\n",
              "          const dataTable =\n",
              "            await google.colab.kernel.invokeFunction('convertToInteractive',\n",
              "                                                     [key], {});\n",
              "          if (!dataTable) return;\n",
              "\n",
              "          const docLinkHtml = 'Like what you see? Visit the ' +\n",
              "            '<a target=\"_blank\" href=https://colab.research.google.com/notebooks/data_table.ipynb>data table notebook</a>'\n",
              "            + ' to learn more about interactive tables.';\n",
              "          element.innerHTML = '';\n",
              "          dataTable['output_type'] = 'display_data';\n",
              "          await google.colab.output.renderOutput(dataTable, element);\n",
              "          const docLink = document.createElement('div');\n",
              "          docLink.innerHTML = docLinkHtml;\n",
              "          element.appendChild(docLink);\n",
              "        }\n",
              "      </script>\n",
              "    </div>\n",
              "  </div>\n",
              "  "
            ]
          },
          "metadata": {},
          "execution_count": 3
        }
      ],
      "source": [
        "train.head()"
      ]
    },
    {
      "cell_type": "code",
      "execution_count": null,
      "id": "c14aea69",
      "metadata": {
        "id": "c14aea69",
        "outputId": "dcc8f7ba-e3a9-48e7-f7e0-9814df87b3c0"
      },
      "outputs": [
        {
          "data": {
            "text/plain": [
              "(10546, 2)"
            ]
          },
          "execution_count": 3,
          "metadata": {},
          "output_type": "execute_result"
        }
      ],
      "source": [
        "test.shape"
      ]
    },
    {
      "cell_type": "code",
      "execution_count": null,
      "id": "2feb0c0b",
      "metadata": {
        "id": "2feb0c0b",
        "outputId": "e9930382-b446-4b09-8687-d1dae0a5ecb0"
      },
      "outputs": [
        {
          "data": {
            "text/plain": [
              "(15819, 3)"
            ]
          },
          "execution_count": 4,
          "metadata": {},
          "output_type": "execute_result"
        }
      ],
      "source": [
        "# Shape of the dataset\n",
        "train.shape"
      ]
    },
    {
      "cell_type": "markdown",
      "id": "b19f904f",
      "metadata": {
        "id": "b19f904f"
      },
      "source": [
        "From the analysis we find that there are a total of 15819 rows and 3 columns."
      ]
    },
    {
      "cell_type": "code",
      "execution_count": null,
      "id": "77925660",
      "metadata": {
        "id": "77925660",
        "outputId": "c567d4f1-86ca-460a-fa5b-ba992b774207"
      },
      "outputs": [
        {
          "data": {
            "text/html": [
              "<div>\n",
              "<style scoped>\n",
              "    .dataframe tbody tr th:only-of-type {\n",
              "        vertical-align: middle;\n",
              "    }\n",
              "\n",
              "    .dataframe tbody tr th {\n",
              "        vertical-align: top;\n",
              "    }\n",
              "\n",
              "    .dataframe thead th {\n",
              "        text-align: right;\n",
              "    }\n",
              "</style>\n",
              "<table border=\"1\" class=\"dataframe\">\n",
              "  <thead>\n",
              "    <tr style=\"text-align: right;\">\n",
              "      <th></th>\n",
              "      <th>message</th>\n",
              "      <th>tweetid</th>\n",
              "    </tr>\n",
              "  </thead>\n",
              "  <tbody>\n",
              "    <tr>\n",
              "      <th>0</th>\n",
              "      <td>Europe will now be looking to China to make su...</td>\n",
              "      <td>169760</td>\n",
              "    </tr>\n",
              "    <tr>\n",
              "      <th>1</th>\n",
              "      <td>Combine this with the polling of staffers re c...</td>\n",
              "      <td>35326</td>\n",
              "    </tr>\n",
              "    <tr>\n",
              "      <th>2</th>\n",
              "      <td>The scary, unimpeachable evidence that climate...</td>\n",
              "      <td>224985</td>\n",
              "    </tr>\n",
              "    <tr>\n",
              "      <th>3</th>\n",
              "      <td>@Karoli @morgfair @OsborneInk @dailykos \\nPuti...</td>\n",
              "      <td>476263</td>\n",
              "    </tr>\n",
              "    <tr>\n",
              "      <th>4</th>\n",
              "      <td>RT @FakeWillMoore: 'Female orgasms cause globa...</td>\n",
              "      <td>872928</td>\n",
              "    </tr>\n",
              "  </tbody>\n",
              "</table>\n",
              "</div>"
            ],
            "text/plain": [
              "                                             message  tweetid\n",
              "0  Europe will now be looking to China to make su...   169760\n",
              "1  Combine this with the polling of staffers re c...    35326\n",
              "2  The scary, unimpeachable evidence that climate...   224985\n",
              "3  @Karoli @morgfair @OsborneInk @dailykos \\nPuti...   476263\n",
              "4  RT @FakeWillMoore: 'Female orgasms cause globa...   872928"
            ]
          },
          "execution_count": 5,
          "metadata": {},
          "output_type": "execute_result"
        }
      ],
      "source": [
        "test.head()"
      ]
    },
    {
      "cell_type": "code",
      "execution_count": null,
      "id": "20124bd3",
      "metadata": {
        "id": "20124bd3",
        "outputId": "5c933b33-1d54-435e-c3ac-ecafc6268303"
      },
      "outputs": [
        {
          "name": "stdout",
          "output_type": "stream",
          "text": [
            "<class 'pandas.core.frame.DataFrame'>\n",
            "RangeIndex: 15819 entries, 0 to 15818\n",
            "Data columns (total 3 columns):\n",
            " #   Column     Non-Null Count  Dtype \n",
            "---  ------     --------------  ----- \n",
            " 0   sentiment  15819 non-null  int64 \n",
            " 1   message    15819 non-null  object\n",
            " 2   tweetid    15819 non-null  int64 \n",
            "dtypes: int64(2), object(1)\n",
            "memory usage: 370.9+ KB\n"
          ]
        }
      ],
      "source": [
        "# dataframe information\n",
        "train.info()"
      ]
    },
    {
      "cell_type": "markdown",
      "id": "a1418d02",
      "metadata": {
        "id": "a1418d02"
      },
      "source": [
        "As it can be seen, the dataframe has two numeric columns (int64) and one categorical column (object).\n",
        "\n",
        "And it can also be seen that the dataframe has no null/missing values"
      ]
    },
    {
      "cell_type": "markdown",
      "id": "c65083dc",
      "metadata": {
        "id": "c65083dc"
      },
      "source": [
        "## Looking at the numbers of possible classes in our sentiment"
      ]
    },
    {
      "cell_type": "code",
      "execution_count": null,
      "id": "332bf197",
      "metadata": {
        "id": "332bf197",
        "outputId": "3a070992-5b77-46b2-b7b4-b008f591277d"
      },
      "outputs": [
        {
          "data": {
            "text/plain": [
              "array([ 1,  2,  0, -1], dtype=int64)"
            ]
          },
          "execution_count": 7,
          "metadata": {},
          "output_type": "execute_result"
        }
      ],
      "source": [
        "train['sentiment'].unique()"
      ]
    },
    {
      "cell_type": "markdown",
      "id": "84363845",
      "metadata": {
        "id": "84363845"
      },
      "source": [
        "Class Description\n",
        "- 2 News: the tweet links to factual news about climate change\n",
        "- 1 Pro: the tweet supports the belief of man-made climate change\n",
        "- 0 Neutral: the tweet neither supports nor refutes the belief of man-made climate change\n",
        "- -1 Anti: the tweet does not believe in man-made climate change"
      ]
    },
    {
      "cell_type": "code",
      "execution_count": null,
      "id": "a709c177",
      "metadata": {
        "id": "a709c177",
        "outputId": "9f4dc1d7-8131-4a3c-eea1-d3fa61cceb66"
      },
      "outputs": [
        {
          "data": {
            "text/plain": [
              " 1    8530\n",
              " 2    3640\n",
              " 0    2353\n",
              "-1    1296\n",
              "Name: sentiment, dtype: int64"
            ]
          },
          "execution_count": 8,
          "metadata": {},
          "output_type": "execute_result"
        }
      ],
      "source": [
        "train.sentiment.value_counts()"
      ]
    },
    {
      "cell_type": "code",
      "execution_count": null,
      "id": "f39364f7",
      "metadata": {
        "id": "f39364f7",
        "outputId": "34092c6f-bc05-464d-c127-1b521f42e0cc"
      },
      "outputs": [
        {
          "data": {
            "image/png": "[encoded data removed]",
            "text/plain": [
              "<Figure size 864x432 with 1 Axes>"
            ]
          },
          "metadata": {
            "needs_background": "light"
          },
          "output_type": "display_data"
        }
      ],
      "source": [
        "# A sentiment bar graph plot \n",
        "plt.figure (figsize= (12,6))\n",
        "sns.countplot(x = 'sentiment', data = train, palette=\"hls\")\n",
        "plt.title(\"Distribution of sentiment\");"
      ]
    },
    {
      "cell_type": "code",
      "execution_count": null,
      "id": "f9042cd0",
      "metadata": {
        "id": "f9042cd0",
        "outputId": "7de6365b-c31b-468e-d76a-9426202d2e62"
      },
      "outputs": [
        {
          "data": {
            "image/png": "[encoded data removed]",
            "text/plain": [
              "<Figure size 1152x720 with 1 Axes>"
            ]
          },
          "metadata": {},
          "output_type": "display_data"
        }
      ],
      "source": [
        "plt.figure (figsize= (16,10))\n",
        "values = train['sentiment'].value_counts()/train.shape[0]\n",
        "labels = (train['sentiment'].value_counts()/train.shape[0]).index\n",
        "colors = ['orange', 'blue', 'purple', 'pink']\n",
        "plt.pie(x=values, labels=labels, autopct='%1.1f%%', startangle=90, explode= (0.04, 0, 0, 0), colors=colors)\n",
        "plt.show()"
      ]
    },
    {
      "cell_type": "markdown",
      "id": "d81e5ad5",
      "metadata": {
        "id": "d81e5ad5"
      },
      "source": [
        "### There is imbalanced classes in the dataset\n",
        "\n",
        "Imbalanced classes put “accuracy” out of business. This is a surprisingly common problem in machine learning (specifically in classification), occurring in datasets with a disproportionate ratio of observations in each class.\n",
        "\n",
        "Standard accuracy no longer reliably measures performance, which makes model training much trickier."
      ]
    },
    {
      "cell_type": "markdown",
      "id": "d9170728",
      "metadata": {
        "id": "d9170728"
      },
      "source": [
        "### How much class is imbalanced?\n",
        "Two factors **balance_accuracy_score** and **accuracy_score are** to be considered to know how much the class is imbalanced.\n",
        "\n",
        "balanced_accuracy_score computes balanced accuracy and it is used to deal with an imbalanced dataset for both binary or multiclass classification problems. It is defined as the average of recall obtained in each class.\n",
        "\n",
        "Whereas the accuracy score is the accuracy classification score. The difference between these two accuracy scores will be zero for the balanced dataset. That is for a balanced dataset the balanced_accuracy_score becomes equivalent to the accuracy_score.\n",
        "<img src=\"https://github.com/Classification-Team-CW5/Classification-Data/blob/main/imbalance.png?raw=true\" width=90%/> \n"
      ]
    },
    {
      "cell_type": "code",
      "execution_count": null,
      "id": "f49fe2f9",
      "metadata": {
        "id": "f49fe2f9",
        "outputId": "b63be9c6-753a-4872-d8d9-7e49255993fa"
      },
      "outputs": [
        {
          "data": {
            "text/plain": [
              "0"
            ]
          },
          "execution_count": 11,
          "metadata": {},
          "output_type": "execute_result"
        }
      ],
      "source": [
        "# check for duplicated data\n",
        "len(train[train.duplicated()])"
      ]
    },
    {
      "cell_type": "markdown",
      "id": "5601d222",
      "metadata": {
        "id": "5601d222"
      },
      "source": [
        "<a id=\"four\"></a>\n",
        "## 4. Data Engineering\n",
        "<a class=\"anchor\" id=\"1.1\"></a>\n",
        "<a href=#cont>Back to Table of Contents</a>"
      ]
    },
    {
      "cell_type": "markdown",
      "id": "db5f3e78",
      "metadata": {
        "id": "db5f3e78"
      },
      "source": [
        "## Text Cleaning"
      ]
    },
    {
      "cell_type": "markdown",
      "id": "0f4abc1e",
      "metadata": {
        "id": "0f4abc1e"
      },
      "source": [
        "Display some tweets that will help us understand what to do when we are trying to clean the messages that we have in the dataset."
      ]
    },
    {
      "cell_type": "code",
      "execution_count": null,
      "id": "ea45c400",
      "metadata": {
        "id": "ea45c400",
        "outputId": "6b9a3fc6-087c-45cc-8924-51eb4c6a487f"
      },
      "outputs": [
        {
          "name": "stdout",
          "output_type": "stream",
          "text": [
            "@Jnp_Ftw are these the same scientists that denounce climate change? It's not a choice\n",
            "RT @Honey17011: A guide to global warming, Paris pact and the US role #DemForce #TheResistance #UniteBlue https://t.co/RYiBLwAJZ4\n",
            "RT @latimes: Atmospheric rivers fueled by climate change could decimate wild oysters in San Francisco Bay https://t.co/p0LZBhlU5K https://t…\n",
            "Denying climate change ignores basic science\n",
            "BGR ~ China practically says Trump lied about climate change https://t.co/Rz37HtcS8d\n",
            "RT @BernieSanders: #ImVotingBecause the future of the planet is at stake. Hillary Clinton will combat climate change. Donald Trump thinks iÃ¢â‚¬Â¦\n",
            "RT @Independent: Trump's team removed climate change data from the White House website. They may be breaking the law…\n",
            "RT @DeboraheHart: Toxic soils, aquifers, vast amts of wasted (+ waste) water, runaway climate change - what part of gas fracking don'…\n",
            "RT @BettyBowers: America: Where climate change is “unproven” to people 100% sure a guy called Noah fit all the world's animals on hi…\n",
            "We’ ve dealt with simple issues like climate change and energy policy. Now the complex issues. Mal vs Tones. #qanda\n",
            "RT @ForAmerica: They protested in support of climate change at the #WomansMarch and then did their part to help the environment... https://…\n",
            "2050 climate targets: nations are playing the long game in fighting global warming https://t.co/dnegw2vfJd via @ConversationEDU\n",
            "RT @thedailybeast: Trump's climate change denial could cost us $100 trillion https://t.co/KlTTT4Sxrg https://t.co/Go1ycr48UP\n",
            "RT @andrewsharp: Win probability is bullshit man. I saw the NBA Finals and that's when I knew, global warming isn't real\n",
            "RT @washingtonpost: The Alaskan tundra is filling the atmosphere with carbon dioxide, worsening climate change https://t.co/nSOimuwEax\n",
            "RT @TheTorontoSun: From @sunlorrie: Indian environmentalist calls out DiCaprio in his own documentary on climate change.Ã¢â‚¬Â¦\n",
            "@realDonaldTrump Carbon Tax is a Globalist idea to enslave the world's population. It is the whole reason for propagating global warming!\n",
            "Will anyone who supports Trumps view of climate change (non polluter cronie) please step forward? #Resist #Impeach https://t.co/ofoB3UtAIl\n",
            "RT @SteveSGoddard: We had winds close to 100 MPH in the area this afternoon. I would blame climate change, except that this happens pr… \n",
            "RT @Starbuck: World food supplies at risk as #climate change threatens international trade, warn experts https://t.co/rWCW2XF2lr https://t.…\n",
            "RT @FoxNews: Macron: My charm may have changed Trump's mind on climate change https://t.co/HxDJQwgBE5 https://t.co/9iDj2a5NzQ\n",
            "RT @StephenSchlegel: she's thinking about how she's going to die because your husband doesn't believe in climate change https://t.co/SjoFoNÃ¢â‚¬Â¦\n",
            "Chris: Who is it then that initially talked about climate change?\n",
            "Me: * thinked for three seconds * ... The EuropeaÃ¢â‚¬Â¦ https://t.co/VwlQICy0H0\n",
            "Do you approve of the executive order @realDonaldTrump is due to sign re climate change and the environment?\n",
            "\n",
            "https://t.co/NR6NqBJl5M\n",
            "Trump doesn't believe in global warming and he's going to be the President of the United States of America.... fuck\n",
            "RT @kelkulus: Irony: Florida, a state in danger of being washed away due to rising sea levels, just elected a guy who denies climate changeÃ¢â‚¬Â¦\n",
            "@MissLizzyNJ lmao 😂 snowflakes ❄️ complaining about snowflakes ❄️ in winter =global warming 🤦‍♂️\n",
            "RT @Dawn2334Dawn: This is ONE of Arnold Schwarzenegger's vehicles. He is now whining about climate change.\n",
            "How's his maid...illegal or\n",
            "http…\n",
            "@GlennF They are calling to the great Space Cylinder to save them from global warming.\n",
            "RT @GreenpeaceEAsia: Pollution from India and China has reached the stratosphere, which could speed up global warming… \n",
            "RT @UNEP: The @citiesclimfin lays out how cities and subnational bodies can finance solutions to climate changeÃ¢â‚¬Â¦\n",
            "These House Republicans say climate change is real and it’s time to fight it | By @ninaburleigh\n",
            "https://t.co/VnayFuHglW\n",
            "But global warming is a hoax though. https://t.co/PZugB9WFWt\n",
            "RT @kylegriffin1: NYT reviewed a draft climate change rpt by fed scientists directly contradicting the admin's global warming claims. https…\n",
            "RT @fuckofflaine: @jJxrry @SpaceX @QuebanJesus antarctica is so big lmao how is global warming real like nigga just use an Air conditioner\n",
            "My two cents on the global political leadership on climate change in a trump era https://t.co/I60IQxYtY9\n",
            "RT @BBCBreaking: UK government signs Paris Agreement, world's first comprehensive treaty on tackling climate change https://t.co/hDaFst5PFcÃ¢â‚¬Â¦\n",
            "RT @Hope012015: China tells Trump that climate change isn't a hoax it invented https://t.co/TX06PZXyzD via @business Lol, China schooling TÃ¢â‚¬Â¦\n",
            "RT @MotherJones: Here are the races to watch if you care about global warming https://t.co/89HIKYSg3R https://t.co/syXKddd6xE\n",
            "@uscgpacificnw @nsf These icebreaking ships are the primary cause of climate change. Let the arctic freeze over, &amp; stay away from there!\n",
            "RT @kelkulus: Irony: Florida, a state in danger of being washed away due to rising sea levels, just elected a guy who denies climate changeÃ¢â‚¬Â¦\n",
            "If global warming doesn't exist, why is club penguin shutting down? https://t.co/1oS6C8MFYx\n",
            "RT @ProfPCDoherty: Need economists to incorporate the reality of climate change in their thinking &amp; we all need to listen, https://t.co/lIv…\n",
            "RT @USHRN: As we fight for human rights, we're also facing the disastrous impacts of climate change. https://t.co/Q9AG2ex1OQ…\n",
            "RT @Cernovich: Is climate change real? https://t.co/FecIvOogma\n",
            "RT @AHamiltonSpirit: There is no question climate change is man-made. If you have doubts, and haven't seen an inconvenient truth, please…\n",
            "@alphageekst3r the process of climate change. It occurs naturally, but not at these extreme levels. We'll eventually have severe droughts,\n",
            "RT @ROSchneider86: Neoliberalism has conned us into fighting climate change as individuals | Martin Lukacs https://t.co/g6MhOjZxa1\n",
            "RT @davidsirota: MUST READ: Rick Perry ordered Texas legislature to kill bill requiring state agencies to prepare for climate change https:…\n",
            "RT @SenSanders: We have a president-elect who doesnÃ¢â‚¬â„¢t believe in climate change. ThatÃ¢â‚¬â„¢s frightening for this country and the world.\n",
            "So hot due to global warming\n",
            "RT @LDN_environment: We've a few short term opps working on climate change &amp; energy. Send us your CV or Q's to environment@london.gov.uk #h…\n",
            "RT @MarkBaileyMP: Fed Energy/Envt Minister @JoshFrydenberg refused to allow term 'climate change' in #COAG Energy Council Communique despit…\n",
            "RT @jadorelacouture: the fact that Leonardo DiCaprio met with trump to discuss climate change.. a MAN\n",
            "RT @verge: Google Earth’s Timelapse update illustrates 30 years of climate change https://t.co/kTDUWZASfc https://t.co/NZz8tyT7i4\n",
            "RT @SethMacFarlane: HRC proposes installing half a billion solar panels by the end of her first term. Trump thinks climate change is a hoaxÃ¢â‚¬Â¦\n",
            "#BeforetheFlood \n",
            "EVERYONE must watch this!! people must understand global warming is very real @LeoDiCaprio \n",
            "https://t.co/vTqnt1f6Ni\n",
            "If this doesn't shake you up about climate change, then nothing ever will. https://t.co/YHpJE56lYP\n",
            "RT @SmithsonianEnv: SERC's Roy Rich &amp; colleagues create a buzz in Germany for their global warming simulation: https://t.co/y6shqNJEXh…\n",
            "RT @Earthjustice: NOAA Report: 2016 was 2nd hottest year in history. One more reason to fight climate change deniers in Trump Admin &gt;…\n",
            "conservatives just love denying science huh? from climate change to believing that fertilization of an egg = an automatic human life.\n",
            "senior air quality and climate change specialist: As a Senior Air… https://t.co/TSqzmJwLh9 #airquality #ClimateChange #GreenhouseGas\n",
            "Come check out our events about climate change! #SRHPL https://t.co/8YviyN22Lo\n",
            "To think 200 million could have gone towards alleviating poverty, reducing climate change or improving healthcare, call me mad but...\n",
            "@CNN Its a protest against global warming. The are not stupid.\n",
            "RT @RonaldKlain: As Trump decides on Paris, @BrianCDeese &amp; I team up in @washingtonpost to warn about climate change and epidemics: https:…\n",
            "RT @savingoceans: Lack of #climate change action can potentially hurt future #fishermen jobs. https://t.co/5MD2qw4VtC\n",
            "“Yet another Trump advisor is clueless on climate change” by @climateprogress https://t.co/ApAmIIBdJJ\n",
            "RT @StephenSchlegel: she's thinking about how she's going to die because your husband doesn't believe in climate change https://t.co/SjoFoNÃ¢â‚¬Â¦\n",
            "U.S. environmental agency chief says humans contribute to global warming - https://t.co/aSsz4eszXs\n",
            "So we have a director of EPA who is a climate change denier. No a coal lobbies to as deputy EPA Chief. Environment… https://t.co/XlxHbWNJuM\n",
            "RT @IrisRimon: The Chinese just broke massive iceberg in Antarctica as part of their global warming hoax.\n",
            "RT @thinkprogress: Where are Rex Tillerson’s climate change emails?\n",
            "https://t.co/LyANHBPZfT\n",
            "RT @M3thG0d: If global warming isn't real why did club penguin shut down\n",
            "RT @NDeNicolaMD: 500,000 doctors agree: climate change is making us sick #EarthDay #MarchForScience #HealthAndClimate…\n",
            "RT @tristinc1: our president think climate change is a hoax made by the chinese &amp; our vice president thinks being gay is a curable disease.Ã¢â‚¬Â¦\n",
            "80% of GHG via resevoirs are methane. Resevoirs play a substantial role in global warming. https://t.co/CNHiU818Ky https://t.co/58nmAFxcmP\n",
            "RT @Fruitloopian: Why is there snow in March if we have global warming?\n",
            "RT @GreenHarvard: “Universities have a uniquely important role to play in the battle against climate change” https://t.co/jRV2z1OMrx\n",
            "RT @SethMacFarlane: Are we looking at an America that officially believes climate change is a hoax? Sorry, everybody else.\n",
            "RT @PopSci: Ten of the ugliest animals threatened by climate change https://t.co/u67EVjeUnO https://t.co/ihOhxlqfTs\n",
            "@realDonaldTrump @POTUS You fucking idiot! I'm a geologist &amp; studied climate change in college &amp; co-authored two papers on it - IT'S REAL!!!\n",
            "RT @SenSanders: We have a president-elect who doesn't believe in climate change. Millions of people are going to have to say: Mr. TÃ¢â‚¬Â¦\n",
            "can someone pls explain to me why it's -37 in march,,,, global warming who??\n",
            "RT @NatGeoChannel: Watch #BeforeTheFlood right here, as @LeoDiCaprio travels the world to tackle climate change https://t.co/LkDehj3tNn httÃ¢â‚¬Â¦\n",
            "RT @peta: Meat production is a leading cause of climate change, water waste, deforestation, &amp; extinction. #WorldVeganDayÃ¢â‚¬Â¦\n",
            "Explain that my global warming advocates. https://t.co/WpKndebunw\n",
            "Syfy's 'Incorporated' imagines future ravaged by climate change https://t.co/7nb1IkZT72 via @CNN https://t.co/b33c6BCSVY\n",
            "@PrisonPlanet wow wow finally climate change is not the evil now you wake up. Good\n",
            "RT @drishtiias: {Audio Article #25}{Environment #02}\n",
            "After Trump`s decision what will be the form of Paris climate change agreement?\n",
            "https:…\n",
            "RT @NYTNational: White House budget proposal on climate change: 'We’re not spending money on that anymore.' https://t.co/3f7y0euDPl\n",
            "@TomiLahren kinda funny the professors talk shit trumpsters=omg f them. scientist 'climate change' trumpserst= idots. Kinda shows his base🤔\n",
            "RT @StephenSchlegel: she's thinking about how she's going to die because your husband doesn't believe in climate change https://t.co/SjoFoNÃ¢â‚¬Â¦\n",
            "RT @SethMacFarlane: HRC proposes installing half a billion solar panels by the end of her first term. Trump thinks climate change is a hoaxÃ¢â‚¬Â¦\n",
            "RT @lexi4prez: he is literally a climate change denier....RIP our planet https://t.co/B67IQ8N9Fs\n",
            "@realDonaldTrump  what about climate change? It's very real but you only care about $$$$\n",
            "RT @Kloppholic: Imagine trying to convince yourself that global warming isn't real and instead a conspiracy. Wake up, before it's tÃ¢â‚¬Â¦\n",
            "@DocRock1007 So he IS saying climate change is a hoax, and every major scientific organization is a in on it?\n",
            "@PoliticalShort @piewagn Dems are causing global warming... #STFU\n",
            "RT @signordal: New global warming study is terrible news for alarmists, good news for plants, animals an...https://t.co/KgJxLvfs7A https://…\n",
            "Follow @projectARCC if you want to hear more about what A/V and digital archivists can do about climate change activism #AVhack16\n",
            "If you don't believe in climate change, then look at the polar bears that are going extinct, because they have no land to live on.\n",
            "Air pollution deaths expected to rise due to climate change - https://t.co/Imoox1L1mg https://t.co/HDpNg5jFTp\n",
            "Labour, budgeting and climate change (2) - The Punch https://t.co/Mby8DEK6cv  - #ClimateChange\n",
            "We don't have to hear anti-vaccers/climate change deniers/ACA killers out. Stop using your stupidity to try and kil… https://t.co/CRdJKMQdXX\n",
            "Reader questions science of climate change theories .. https://t.co/1zEco8Bwiv #climatechange\n",
            "See the impacts of global warming https://t.co/nsDE3ZVMH4\n",
            "One way to avert climate change. The world should apply the method. https://t.co/tj8n6ZMWqo\n",
            "RT @foxandfriends: New Catholic priests expected to preach global warming to congregations, report says | @foxnation… \n",
            "RT @SasjaBeslik: Meet ChinaÃ¢â‚¬â„¢s 'ecological migrants': 320,000 people displaced by climate change https://t.co/MsyqCisUG6Ã¢â‚¬Â¦\n",
            "China warns Trump against abandoning climate change deal https://t.co/Z8E2bvl80C via @FT\n",
            "Science to the rescue as climate change threatens chocolate via New Europe https://t.co/JEFdVN4lLT\n",
            "RT @StephenSchlegel: she's thinking about how she's going to die because your husband doesn't believe in climate change https://t.co/SjoFoNÃ¢â‚¬Â¦\n",
            "@zachheltzel People who believe in climate change also generally refuse to say that trans isn't real out loud so... You're no better.\n",
            "RT @SamJamesVelde: It's 90 degrees in early November in Los Angeles, but you know ....according to Trump global warming and climate changeÃ¢â‚¬Â¦\n",
            "Come &amp; hear more about climate change and Antarctica #art4climate #Larsenc #climatechangeart… https://t.co/1JoGxQk1nN\n",
            "The youths being almost 60% of Kenya's pop' are best line of defense against climate change &amp; food security\n",
            "@ROBERTMBURIA @RichardMunang\n",
            "@CBSNews You're not going to get away with this, we are going to call you out every single time. All pages are gone inc. fake climate change\n",
            "RT @GeographerJay: Trump wants to end NASA climate change research as real estate markets start to slump due to climate change https://t.co…\n",
            "RT @CharlieDaniels: I'm not worried about global warming but I'm terrified about global government.\n"
          ]
        }
      ],
      "source": [
        "for x in train['message'][30:150]:\n",
        "    print(x)"
      ]
    },
    {
      "cell_type": "markdown",
      "id": "1cd76da4",
      "metadata": {
        "id": "1cd76da4"
      },
      "source": [
        "From the tweets it can be seen that the messages have characters like <font color='red'>Emojis</font>, since <font color='red'>Emojis</font> are a new way to express something humans have known for a long time: symbols have power that goes beyond words. As we put it when we unveiled hearts on Twitter, “The heart… is a universal symbol that resonates across languages, cultures, and time zone.."
      ]
    },
    {
      "cell_type": "markdown",
      "id": "583ba43d",
      "metadata": {
        "id": "583ba43d"
      },
      "source": [
        "### A function to clean our text column"
      ]
    },
    {
      "cell_type": "code",
      "execution_count": null,
      "id": "0eb14447",
      "metadata": {
        "id": "0eb14447"
      },
      "outputs": [],
      "source": [
        "# Define a cleaning function to clean the Tweets\n",
        "def clean_tweets(text):\n",
        "    text = re.sub(r'@[A-Za-z0-9_]+','',text) # Removing @mentions or usernames\n",
        "    text = re.sub(r'#','',text) # Removing #tag symbol\n",
        "    text = re.sub(r'RT[\\s]+',' ',text) # Remvoing RT (Retweet)\n",
        "    text = re.sub(r'\\n','',text) # Removing newlines\n",
        "    text = re.sub(r',','',text) # Removing commas\n",
        "    text = re.sub(r'.[.]+','',text) # Removing full stops\n",
        "    text = re.sub(r'\\w+:\\/\\/\\S+','',text) \n",
        "    text = re.sub(r'https?:\\/\\/\\S+','',text) # Removing hyperlinks\n",
        "    text = re.sub(r'/',' ',text) # Removing the / character\n",
        "    text = re.sub(r'-',' ',text) # Removing the - character\n",
        "    text = re.sub(r'_',' ',text) # Removing the _ character\n",
        "    text = re.sub(r'!','',text) # Removing the ! character\n",
        "    text = re.sub(r':',' ',text) # Removing the : character\n",
        "    text = re.sub(r'$','',text) # Removing the $ character\n",
        "    text = re.sub(r'%','',text) # Removing the % character\n",
        "    text = re.sub(r'^','',text) # Removing the ^ character\n",
        "    text = re.sub(r'&','',text) # Removing the & character\n",
        "    text = re.sub(r'=',' ',text) # Replace '=' with a whitespace\n",
        "    text = re.sub(r' +',' ',text) # Removing extra whitespaces\n",
        "\n",
        "    return text"
      ]
    },
    {
      "cell_type": "code",
      "execution_count": null,
      "id": "263a25fb",
      "metadata": {
        "id": "263a25fb"
      },
      "outputs": [],
      "source": [
        "# Define a function to remove emojis\n",
        "def remove_emoji(string):\n",
        "    emoji_pattern = re.compile(\"[\"\n",
        "                               u\"\\U0001F600-\\U0001F64F\"  # emoticons\n",
        "                               u\"\\U0001F300-\\U0001F5FF\"  # symbols & pictographs\n",
        "                               u\"\\U0001F680-\\U0001F6FF\"  # transport & map symbols\n",
        "                               u\"\\U0001F1E0-\\U0001F1FF\"  # flags (iOS)\n",
        "                               u\"\\U00002500-\\U00002BEF\"  # chinese char\n",
        "                               u\"\\U00002702-\\U000027B0\"\n",
        "                               u\"\\U00002702-\\U000027B0\"\n",
        "                               u\"\\U000024C2-\\U0001F251\"\n",
        "                               u\"\\U0001f926-\\U0001f937\"\n",
        "                               u\"\\U00010000-\\U0010ffff\"\n",
        "                               u\"\\u2640-\\u2642\"\n",
        "                               u\"\\u2600-\\u2B55\"\n",
        "                               u\"\\u200d\"\n",
        "                               u\"\\u23cf\"\n",
        "                               u\"\\u23e9\"\n",
        "                               u\"\\u231a\"\n",
        "                               u\"\\ufe0f\"  # dingbats\n",
        "                               u\"\\u3030\"\n",
        "                               \"]+\", flags=re.UNICODE)\n",
        "    return emoji_pattern.sub(r'', string)"
      ]
    },
    {
      "cell_type": "markdown",
      "id": "f28cdaeb",
      "metadata": {
        "id": "f28cdaeb"
      },
      "source": [
        "### Apply clean_tweets and remove_emoji functions to the dataframe"
      ]
    },
    {
      "cell_type": "code",
      "source": [
        ""
      ],
      "metadata": {
        "id": "Ypa6NDjOrjvm"
      },
      "id": "Ypa6NDjOrjvm",
      "execution_count": null,
      "outputs": []
    },
    {
      "cell_type": "code",
      "execution_count": null,
      "id": "118626b2",
      "metadata": {
        "id": "118626b2",
        "outputId": "f3880f93-f2ca-4de7-a49d-3b9d5566b906"
      },
      "outputs": [
        {
          "name": "stderr",
          "output_type": "stream",
          "text": [
            "C:\\Users\\F5469333\\AppData\\Local\\Temp/ipykernel_17180/3796894799.py:12: FutureWarning: Passing a negative integer is deprecated in version 1.0 and will not be supported in future version. Instead, use None to not limit the column width.\n",
            "  pd.set_option('display.max_colwidth', -1)\n"
          ]
        }
      ],
      "source": [
        "train['message'] = train['message'].apply(clean_tweets) # Applying function clean tweets to the dataset\n",
        "train['message'] = train['message'].apply(remove_emoji) # Applying function to remove emojis to the dataset\n",
        "train['message'] = train.message.str.lower() # Making all texts to lower case\n",
        "train['message'] = train['message'].str.strip() # Removing leading and trailing whitespaces\n",
        "\n",
        "test['message'] = test['message'].apply(clean_tweets) # Applying function clean tweets to the dataset\n",
        "test['message'] = test['message'].apply(remove_emoji) # Applying function to remove emojis to the dataset\n",
        "test['message'] = test.message.str.lower() # Making all texts to lower case\n",
        "test['message'] = test['message'].str.strip() # Removing leading and trailing whitespaces\n",
        "\n",
        "#pd.set_option('display.max_rows', None)\n",
        "pd.set_option('display.max_colwidth', -1)"
      ]
    },
    {
      "cell_type": "code",
      "execution_count": null,
      "id": "1ff5ab93",
      "metadata": {
        "id": "1ff5ab93"
      },
      "outputs": [],
      "source": [
        "# Creating a df that is copy of the train set.\n",
        "df = train.copy()"
      ]
    },
    {
      "cell_type": "code",
      "execution_count": null,
      "id": "4123b47e",
      "metadata": {
        "id": "4123b47e"
      },
      "outputs": [],
      "source": [
        "# Define a function to remove punctuation\n",
        "string.punctuation\n",
        "punctuations_list = string.punctuation\n",
        "def cleaning_punctuations(text):\n",
        "    translator = str.maketrans('', '', punctuations_list)\n",
        "    return text.translate(translator)\n",
        "\n",
        "df['message'] = df['message'].apply(lambda x: cleaning_punctuations(x))"
      ]
    },
    {
      "cell_type": "markdown",
      "id": "47d61201",
      "metadata": {
        "id": "47d61201"
      },
      "source": [
        "<a id=\"five\"></a>\n",
        "## 5. Modelling\n",
        "<a class=\"anchor\" id=\"1.1\"></a>\n",
        "<a href=#cont>Back to Table of Contents</a>"
      ]
    },
    {
      "cell_type": "markdown",
      "id": "d68d070a",
      "metadata": {
        "id": "d68d070a"
      },
      "source": [
        "### Training using imbalanced sentiment"
      ]
    },
    {
      "cell_type": "code",
      "execution_count": null,
      "id": "9559f525",
      "metadata": {
        "id": "9559f525"
      },
      "outputs": [],
      "source": [
        "# Splitting data into Train and Test sets:\n",
        "X = df['message']\n",
        "y = df['sentiment']"
      ]
    },
    {
      "cell_type": "code",
      "execution_count": null,
      "id": "ec99bf33",
      "metadata": {
        "id": "ec99bf33"
      },
      "outputs": [],
      "source": [
        "# Convert a collection of raw documents to a matrix of TF-IDF features\n",
        "vectorizer = TfidfVectorizer(ngram_range=(1,2), min_df=2)\n",
        "X_vectorized = vectorizer.fit_transform(X)"
      ]
    },
    {
      "cell_type": "code",
      "execution_count": null,
      "id": "17f63070",
      "metadata": {
        "id": "17f63070"
      },
      "outputs": [],
      "source": [
        "# Splitting the previously defined features and label of your dataset\n",
        "X_train, X_test, y_train, y_test = train_test_split(X_vectorized, y, train_size=0.8, random_state=42)"
      ]
    },
    {
      "cell_type": "code",
      "execution_count": null,
      "id": "fc28932a",
      "metadata": {
        "id": "fc28932a"
      },
      "outputs": [],
      "source": [
        "model_svc = SVC() # Define a Support Vector Machine algorithm\n",
        "model_svc.fit(X_train, y_train) # Fitting the model\n",
        "svc_pred = model_svc.predict(X_test) # Make predictions"
      ]
    },
    {
      "cell_type": "code",
      "execution_count": null,
      "id": "23635786",
      "metadata": {
        "id": "23635786",
        "outputId": "6bb16ade-655a-49d4-9bb9-0c81f69f458b"
      },
      "outputs": [
        {
          "name": "stdout",
          "output_type": "stream",
          "text": [
            "F1_score:  0.68\n"
          ]
        }
      ],
      "source": [
        "print('F1_score: ',round(metrics.f1_score(y_test,svc_pred, average = 'weighted'),4))"
      ]
    },
    {
      "cell_type": "code",
      "execution_count": null,
      "id": "51bb053a",
      "metadata": {
        "id": "51bb053a"
      },
      "outputs": [],
      "source": [
        "testx = test['message'] #also transform x_test\n",
        "test_vect = vectorizer.transform(testx)"
      ]
    },
    {
      "cell_type": "code",
      "execution_count": null,
      "id": "db0730fb",
      "metadata": {
        "id": "db0730fb"
      },
      "outputs": [],
      "source": [
        "y_pred = model_svc.predict(test_vect) #predict model with transform test data"
      ]
    },
    {
      "cell_type": "code",
      "execution_count": null,
      "id": "a8bbd8c6",
      "metadata": {
        "id": "a8bbd8c6"
      },
      "outputs": [],
      "source": [
        "test['sentiment'] = y_pred"
      ]
    },
    {
      "cell_type": "code",
      "execution_count": null,
      "id": "402c3126",
      "metadata": {
        "id": "402c3126",
        "outputId": "96157121-ee1a-4f7c-fe35-1a4f4d29ebc6"
      },
      "outputs": [
        {
          "data": {
            "text/html": [
              "<div>\n",
              "<style scoped>\n",
              "    .dataframe tbody tr th:only-of-type {\n",
              "        vertical-align: middle;\n",
              "    }\n",
              "\n",
              "    .dataframe tbody tr th {\n",
              "        vertical-align: top;\n",
              "    }\n",
              "\n",
              "    .dataframe thead th {\n",
              "        text-align: right;\n",
              "    }\n",
              "</style>\n",
              "<table border=\"1\" class=\"dataframe\">\n",
              "  <thead>\n",
              "    <tr style=\"text-align: right;\">\n",
              "      <th></th>\n",
              "      <th>message</th>\n",
              "      <th>tweetid</th>\n",
              "      <th>sentiment</th>\n",
              "    </tr>\n",
              "  </thead>\n",
              "  <tbody>\n",
              "    <tr>\n",
              "      <th>0</th>\n",
              "      <td>europe will now be looking to china to make sure that it is not alone in fighting climate change…</td>\n",
              "      <td>169760</td>\n",
              "      <td>1</td>\n",
              "    </tr>\n",
              "    <tr>\n",
              "      <th>1</th>\n",
              "      <td>combine this with the polling of staffers re climate change and womens' rights and you have a fascist stat</td>\n",
              "      <td>35326</td>\n",
              "      <td>1</td>\n",
              "    </tr>\n",
              "    <tr>\n",
              "      <th>2</th>\n",
              "      <td>the scary unimpeachable evidence that climate change is already here itstimetochange climatechange</td>\n",
              "      <td>224985</td>\n",
              "      <td>1</td>\n",
              "    </tr>\n",
              "    <tr>\n",
              "      <th>3</th>\n",
              "      <td>putin got to you too jill trump doesn't believe in climate change at all thinks it's s hoax</td>\n",
              "      <td>476263</td>\n",
              "      <td>1</td>\n",
              "    </tr>\n",
              "    <tr>\n",
              "      <th>4</th>\n",
              "      <td>'female orgasms cause global warming' sarcastic republican</td>\n",
              "      <td>872928</td>\n",
              "      <td>0</td>\n",
              "    </tr>\n",
              "  </tbody>\n",
              "</table>\n",
              "</div>"
            ],
            "text/plain": [
              "                                                                                                      message  \\\n",
              "0  europe will now be looking to china to make sure that it is not alone in fighting climate change…            \n",
              "1  combine this with the polling of staffers re climate change and womens' rights and you have a fascist stat   \n",
              "2  the scary unimpeachable evidence that climate change is already here itstimetochange climatechange           \n",
              "3  putin got to you too jill trump doesn't believe in climate change at all thinks it's s hoax                  \n",
              "4  'female orgasms cause global warming' sarcastic republican                                                   \n",
              "\n",
              "   tweetid  sentiment  \n",
              "0  169760   1          \n",
              "1  35326    1          \n",
              "2  224985   1          \n",
              "3  476263   1          \n",
              "4  872928   0          "
            ]
          },
          "execution_count": 26,
          "metadata": {},
          "output_type": "execute_result"
        }
      ],
      "source": [
        "test.head()"
      ]
    },
    {
      "cell_type": "code",
      "execution_count": null,
      "id": "bbefad58",
      "metadata": {
        "id": "bbefad58",
        "outputId": "94f72d7c-3a86-4ea2-9cad-d82d713e68cf"
      },
      "outputs": [
        {
          "data": {
            "text/plain": [
              "(10546, 3)"
            ]
          },
          "execution_count": 27,
          "metadata": {},
          "output_type": "execute_result"
        }
      ],
      "source": [
        "test.shape"
      ]
    },
    {
      "cell_type": "markdown",
      "id": "73bfb9bb",
      "metadata": {
        "id": "73bfb9bb"
      },
      "source": [
        "### Handling Imbalanced Classes"
      ]
    },
    {
      "cell_type": "markdown",
      "id": "acbe5887",
      "metadata": {
        "id": "acbe5887"
      },
      "source": [
        "In machine learning, **“imbalanced classes”** is a familiar problem particularly occurring in classification when we have datasets with an unequal ratio of data points in each class. Training of model becomes much trickier as typical accuracy is no longer a reliable metric for measuring the performance of the model. Now if the number of data points in minority class is much less, then it may end up being completely ignored during training."
      ]
    },
    {
      "cell_type": "markdown",
      "id": "f26fdc0b",
      "metadata": {
        "id": "f26fdc0b"
      },
      "source": [
        "### Resampling\n",
        "Resampling involves changing the frequency of your time series observations.\n",
        "\n",
        "Two types of resampling are:\n",
        "\n",
        "- 1. **Upsampling**: Where you increase the frequency of the samples, such as from minutes to seconds.\n",
        "\n",
        "- 2. **Downsampling**: Where you decrease the frequency of the samples, such as from days to months.\n",
        "In both cases, data must be invented.\n",
        "\n",
        "\n",
        "In the case of upsampling, care may be needed in determining how the fine-grained observations are calculated using interpolation. In the case of downsampling, care may be needed in selecting the summary statistics used to calculate the new aggregated values.\n",
        "\n",
        "There are perhaps two main reasons why you may be interested in resampling your time series data:\n",
        "\n",
        "- 1. **Problem Framing**: Resampling may be required if your data is not available at the same frequency that you want to make predictions.\n",
        "\n",
        "- 2. **Feature Engineering**: Resampling can also be used to provide additional structure or insight into the learning problem for supervised learning models.\n",
        "\n",
        "<img src=\"https://github.com/Classification-Team-CW5/Classification-Data/blob/main/resample.png?raw=true\" width=60%/> "
      ]
    },
    {
      "cell_type": "code",
      "execution_count": null,
      "id": "5355c018",
      "metadata": {
        "id": "5355c018"
      },
      "outputs": [],
      "source": [
        "# importing the module and creating a resampling variable\n",
        "data = train.copy()\n",
        "class_size = int(len(data[data['sentiment']==1])/2)"
      ]
    },
    {
      "cell_type": "code",
      "execution_count": null,
      "id": "d9a7def9",
      "metadata": {
        "id": "d9a7def9"
      },
      "outputs": [],
      "source": [
        "# Seperating the four classes\n",
        "class_1 = data[data['sentiment']==-1]\n",
        "class_2 = data[data['sentiment']==0]\n",
        "class_3 = data[data['sentiment']==1]\n",
        "class_4 = data[data['sentiment']==2]"
      ]
    },
    {
      "cell_type": "code",
      "execution_count": null,
      "id": "b879fa5d",
      "metadata": {
        "id": "b879fa5d"
      },
      "outputs": [],
      "source": [
        "# upsampling classes 1, 2, and 4 & downsampling class 3\n",
        "class_1_up = resample(class_1,replace=True,n_samples=class_size, random_state=27)\n",
        "class_2_up = resample(class_2,replace=True,n_samples=class_size, random_state=27)\n",
        "class_4_up = resample(class_4,replace=True,n_samples=class_size, random_state=27)\n",
        "class_3_down = resample(class_3,replace=False,n_samples=class_size, random_state=27)"
      ]
    },
    {
      "cell_type": "code",
      "execution_count": null,
      "id": "9a1c3da6",
      "metadata": {
        "id": "9a1c3da6"
      },
      "outputs": [],
      "source": [
        "# Creating a new DataFrame out of the balanced bata\n",
        "re_sample_df = pd.concat([class_1_up, class_2_up, class_4_up,class_3_down])"
      ]
    },
    {
      "cell_type": "code",
      "execution_count": null,
      "id": "f1b61f01",
      "metadata": {
        "id": "f1b61f01",
        "outputId": "14cd6fa5-55f9-4c3c-e072-4decd1dd7c47"
      },
      "outputs": [
        {
          "data": {
            "image/png": "[encoded data removed]",
            "text/plain": [
              "<Figure size 864x432 with 1 Axes>"
            ]
          },
          "metadata": {
            "needs_background": "light"
          },
          "output_type": "display_data"
        }
      ],
      "source": [
        "# Checking if data has been well-balanced\n",
        "plt.figure (figsize= (12,6))\n",
        "sns.countplot(x = re_sample_df['sentiment'], data = data)\n",
        "plt.title('Distribution of the balanced sentiment')\n",
        "plt.show()"
      ]
    },
    {
      "cell_type": "markdown",
      "id": "01dfe30c",
      "metadata": {
        "id": "01dfe30c"
      },
      "source": [
        "### Training using balanced sentiment"
      ]
    },
    {
      "cell_type": "code",
      "execution_count": null,
      "id": "7c5fc636",
      "metadata": {
        "id": "7c5fc636"
      },
      "outputs": [],
      "source": [
        "# Defining the features as well as the label\n",
        "X1 = re_sample_df['message']\n",
        "X_re_sample = X1.apply(clean_tweets)\n",
        "X_re_sample = X1.apply(remove_emoji)\n",
        "X_re_sample = X1.apply(cleaning_punctuations)\n",
        "y_re_sample = re_sample_df['sentiment']"
      ]
    },
    {
      "cell_type": "code",
      "execution_count": null,
      "id": "6f957860",
      "metadata": {
        "id": "6f957860"
      },
      "outputs": [],
      "source": [
        "# Convert a collection of raw documents to a matrix of TF-IDF features\n",
        "X_vectorized_re_sample = vectorizer.fit_transform(X_re_sample)"
      ]
    },
    {
      "cell_type": "code",
      "execution_count": null,
      "id": "b3dafe82",
      "metadata": {
        "id": "b3dafe82"
      },
      "outputs": [],
      "source": [
        "X_train_re_sample, X_test_re_sample, y_train_re_sample, y_test_re_sample=train_test_split(X_vectorized_re_sample,\n",
        "                                                                                            y_re_sample,\n",
        "                                                                                            train_size=0.8,\n",
        "                                                                                            random_state=42)"
      ]
    },
    {
      "cell_type": "code",
      "execution_count": null,
      "id": "5bd57443",
      "metadata": {
        "id": "5bd57443"
      },
      "outputs": [],
      "source": [
        "model_svc_2 = SVC()\n",
        "model_svc_2.fit(X_train_re_sample, y_train_re_sample)\n",
        "svc_pred_2 = model_svc_2.predict(X_test_re_sample)"
      ]
    },
    {
      "cell_type": "code",
      "execution_count": null,
      "id": "7abdbd1a",
      "metadata": {
        "id": "7abdbd1a",
        "outputId": "7f94947b-d375-4411-9adc-0f2b34168f2b"
      },
      "outputs": [
        {
          "name": "stdout",
          "output_type": "stream",
          "text": [
            "F1_score:  0.88\n"
          ]
        }
      ],
      "source": [
        "print('F1_score: ',round(metrics.f1_score(y_test_re_sample,svc_pred_2, average = 'weighted'),4))"
      ]
    },
    {
      "cell_type": "code",
      "execution_count": null,
      "id": "bd1a46c6",
      "metadata": {
        "id": "bd1a46c6"
      },
      "outputs": [],
      "source": [
        ""
      ]
    },
    {
      "cell_type": "code",
      "execution_count": null,
      "id": "fc0ed012",
      "metadata": {
        "id": "fc0ed012"
      },
      "outputs": [],
      "source": [
        ""
      ]
    },
    {
      "cell_type": "code",
      "execution_count": null,
      "id": "6f6841a3",
      "metadata": {
        "id": "6f6841a3"
      },
      "outputs": [],
      "source": [
        ""
      ]
    },
    {
      "cell_type": "markdown",
      "id": "fa3eed4d",
      "metadata": {
        "id": "fa3eed4d"
      },
      "source": [
        "<a id=\"six\"></a>\n",
        "## 6. Model Performance\n",
        "<a class=\"anchor\" id=\"1.1\"></a>\n",
        "<a href=#cont>Back to Table of Contents</a>"
      ]
    },
    {
      "cell_type": "code",
      "execution_count": null,
      "id": "523ee716",
      "metadata": {
        "id": "523ee716"
      },
      "outputs": [],
      "source": [
        ""
      ]
    },
    {
      "cell_type": "markdown",
      "id": "6f619516",
      "metadata": {
        "id": "6f619516"
      },
      "source": [
        "<a id=\"seven\"></a>\n",
        "## 7. Model Explanations\n",
        "<a class=\"anchor\" id=\"1.1\"></a>\n",
        "<a href=#cont>Back to Table of Contents</a>"
      ]
    },
    {
      "cell_type": "code",
      "execution_count": null,
      "id": "ad3c429d",
      "metadata": {
        "id": "ad3c429d"
      },
      "outputs": [],
      "source": [
        ""
      ]
    },
    {
      "cell_type": "code",
      "execution_count": null,
      "id": "e42ad559",
      "metadata": {
        "id": "e42ad559"
      },
      "outputs": [],
      "source": [
        ""
      ]
    },
    {
      "cell_type": "code",
      "execution_count": null,
      "id": "3f44d9e0",
      "metadata": {
        "id": "3f44d9e0"
      },
      "outputs": [],
      "source": [
        ""
      ]
    },
    {
      "cell_type": "code",
      "execution_count": null,
      "id": "b93e2ab5",
      "metadata": {
        "id": "b93e2ab5"
      },
      "outputs": [],
      "source": [
        ""
      ]
    },
    {
      "cell_type": "code",
      "execution_count": null,
      "id": "1d4a71c6",
      "metadata": {
        "id": "1d4a71c6"
      },
      "outputs": [],
      "source": [
        ""
      ]
    },
    {
      "cell_type": "code",
      "execution_count": null,
      "id": "59342426",
      "metadata": {
        "id": "59342426"
      },
      "outputs": [],
      "source": [
        ""
      ]
    },
    {
      "cell_type": "code",
      "execution_count": null,
      "id": "d008b0ee",
      "metadata": {
        "id": "d008b0ee"
      },
      "outputs": [],
      "source": [
        ""
      ]
    },
    {
      "cell_type": "code",
      "execution_count": null,
      "id": "66a46dc6",
      "metadata": {
        "id": "66a46dc6"
      },
      "outputs": [],
      "source": [
        ""
      ]
    },
    {
      "cell_type": "code",
      "execution_count": null,
      "id": "a576e0bf",
      "metadata": {
        "id": "a576e0bf"
      },
      "outputs": [],
      "source": [
        ""
      ]
    },
    {
      "cell_type": "code",
      "execution_count": null,
      "id": "04e029d8",
      "metadata": {
        "id": "04e029d8"
      },
      "outputs": [],
      "source": [
        ""
      ]
    },
    {
      "cell_type": "code",
      "execution_count": null,
      "id": "4984b706",
      "metadata": {
        "id": "4984b706"
      },
      "outputs": [],
      "source": [
        ""
      ]
    },
    {
      "cell_type": "code",
      "execution_count": null,
      "id": "47ff9fae",
      "metadata": {
        "id": "47ff9fae"
      },
      "outputs": [],
      "source": [
        ""
      ]
    },
    {
      "cell_type": "code",
      "execution_count": null,
      "id": "b0d7053f",
      "metadata": {
        "id": "b0d7053f"
      },
      "outputs": [],
      "source": [
        ""
      ]
    },
    {
      "cell_type": "code",
      "execution_count": null,
      "id": "566fb0e8",
      "metadata": {
        "id": "566fb0e8"
      },
      "outputs": [],
      "source": [
        ""
      ]
    },
    {
      "cell_type": "code",
      "execution_count": null,
      "id": "51c28581",
      "metadata": {
        "id": "51c28581"
      },
      "outputs": [],
      "source": [
        ""
      ]
    },
    {
      "cell_type": "markdown",
      "id": "85e702e1",
      "metadata": {
        "id": "85e702e1"
      },
      "source": [
        "print(svc_pred)\n",
        "print(type(svc_pred))\n",
        "\n",
        "my_array = svc_pred\n",
        "print(len(my_array))\n",
        "\n",
        "submission = pd.DataFrame(my_array,columns = ['target'])\n",
        "submission['id'] = test['id']\n",
        "submission = submission[['id','target']]\n",
        "submission.to_csv('submission.csv', index=False)\n",
        "submission"
      ]
    },
    {
      "cell_type": "code",
      "execution_count": null,
      "id": "64c55079",
      "metadata": {
        "id": "64c55079"
      },
      "outputs": [],
      "source": [
        "https://medium.com/nerd-for-tech/class-imbalance-problem-and-ways-to-handle-it-4861a195398a"
      ]
    },
    {
      "cell_type": "markdown",
      "id": "85ce61aa",
      "metadata": {
        "id": "85ce61aa"
      },
      "source": [
        "https://medium.com/geekculture/exploratory-data-analysis-eda-part-1-7eab49cdbd66#:~:text=EDA%20is%20very%20important%20step%20in%20machine%20learning,helps%20to%20improve%20the%20accuracy%20of%20the%20models."
      ]
    },
    {
      "cell_type": "code",
      "execution_count": null,
      "id": "bb8ba553",
      "metadata": {
        "id": "bb8ba553"
      },
      "outputs": [],
      "source": [
        "https://poopcode.com/how-to-remove-emoji-from-text-in-python/"
      ]
    }
  ],
  "metadata": {
    "kernelspec": {
      "display_name": "Python 3 (ipykernel)",
      "language": "python",
      "name": "python3"
    },
    "language_info": {
      "codemirror_mode": {
        "name": "ipython",
        "version": 3
      },
      "file_extension": ".py",
      "mimetype": "text/x-python",
      "name": "python",
      "nbconvert_exporter": "python",
      "pygments_lexer": "ipython3",
      "version": "3.9.7"
    },
    "colab": {
      "name": "Climate Change Beliefs Analysis.ipynb",
      "provenance": [],
      "include_colab_link": true
    }
  },
  "nbformat": 4,
  "nbformat_minor": 5
}